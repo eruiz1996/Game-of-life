{
 "cells": [
  {
   "cell_type": "markdown",
   "id": "9f79c6b5-6fea-4079-a687-10c4b0c64aa2",
   "metadata": {},
   "source": [
    "# Rules\n",
    "The rules of Conways's Game are:\n",
    "- **Birth rule**: An empty, or *dead*, cell with precisely three *live* neighbors (full cells) becomes live.\n",
    "- **Death rule**: A live cell with zero or one neighbors dies of isolation; a live cell with four or more neighbors dies of overcrowding.\n",
    "- **Survival rule**: A live cell with two or three neighbors remains alive.\n",
    "\n",
    "**Note**. Everything is based on this [reference](https://www.nytimes.com/2020/12/28/science/math-conway-game-of-life.html)"
   ]
  },
  {
   "cell_type": "markdown",
   "id": "a7191654-c6ab-4d6f-834d-1e58a5a3536d",
   "metadata": {},
   "source": [
    "I'm going to consider the *state of a cell* as below:\n",
    "\n",
    "| State | Means |\n",
    "|:-----:|:-----|\n",
    "| 1 | Live Cell |\n",
    "| 0 | Dead Cell |"
   ]
  },
  {
   "cell_type": "code",
   "execution_count": 1,
   "id": "2a201d53-39c1-4594-a2d5-e57ef7140364",
   "metadata": {},
   "outputs": [],
   "source": [
    "import numpy as np"
   ]
  },
  {
   "cell_type": "code",
   "execution_count": 2,
   "id": "01f9f2cc-8e78-4738-ae93-d349e51f953d",
   "metadata": {},
   "outputs": [],
   "source": [
    "def rules(state:int, neighbors:np.array) -> int:\n",
    "    if state == 1:\n",
    "        # death rule\n",
    "        if neighbors > 3 or neighbors < 2:\n",
    "            return 0\n",
    "        # survival rule\n",
    "        elif neighbors == 2 or neighbors == 3:\n",
    "            return 1\n",
    "    # birth rule\n",
    "    else:\n",
    "        if neighbors == 3:\n",
    "            return 1\n",
    "        else:\n",
    "            return 0"
   ]
  },
  {
   "cell_type": "markdown",
   "id": "d9614751-017a-4fa2-a034-a2382cc2b492",
   "metadata": {},
   "source": [
    "# Get status"
   ]
  },
  {
   "cell_type": "code",
   "execution_count": 3,
   "id": "e947aa9b-93cf-4045-bfc9-c2cc019c8a2a",
   "metadata": {},
   "outputs": [],
   "source": [
    "def get_status(neighborhood:np.array) -> tuple:\n",
    "    \"\"\" return the state and number of neighbor cells of a neighborhood \"\"\"\n",
    "    state = neighborhood[1,1]\n",
    "    neighbors = neighborhood.sum() - state\n",
    "    return state, neighbors"
   ]
  },
  {
   "cell_type": "code",
   "execution_count": 4,
   "id": "242e1bb4-9fc6-4095-a0bc-c28cdde89d33",
   "metadata": {},
   "outputs": [
    {
     "data": {
      "text/plain": [
       "(1, 6)"
      ]
     },
     "execution_count": 4,
     "metadata": {},
     "output_type": "execute_result"
    }
   ],
   "source": [
    "neighborhood = np.array([\n",
    "    [1, 0, 1],\n",
    "    [0, 1, 1],\n",
    "    [1, 1, 1]\n",
    "])\n",
    "get_status(neighborhood)"
   ]
  },
  {
   "cell_type": "markdown",
   "id": "ad031d9f-bca6-4e86-8da7-79195f2974c2",
   "metadata": {},
   "source": [
    "# Update grid"
   ]
  },
  {
   "cell_type": "code",
   "execution_count": 8,
   "id": "737726cd-951b-4faf-bd03-86a461b92046",
   "metadata": {},
   "outputs": [],
   "source": [
    "grid = np.array([\n",
    "    [1, 1, 1, 1, 1, 1],\n",
    "    [0, 1, 1, 0, 1, 0],\n",
    "    [1, 0, 0, 1, 0, 1],\n",
    "    [0, 1, 0, 0, 1, 1],\n",
    "    [1, 1, 0, 0, 1, 0],\n",
    "    [1, 1, 0, 0, 1, 0]\n",
    "])\n",
    "\n",
    "def update_grid(grid:np.array) -> np.array:\n",
    "    new_grid = grid.copy()\n",
    "    for i in range(1, grid.shape[1] - 1):\n",
    "        for j in range(1, grid.shape[0] - 1):\n",
    "            neighborhood = grid[i-1:i+2, j-1:j+2]\n",
    "            state, neighbors = get_status(neighborhood)\n",
    "            new_grid[i, j] = rules(state, neighbors)\n",
    "    return new_grid"
   ]
  },
  {
   "cell_type": "code",
   "execution_count": 9,
   "id": "5b1c60eb-5fbf-47e7-843e-652d6781cb38",
   "metadata": {},
   "outputs": [
    {
     "data": {
      "text/plain": [
       "array([[1, 1, 1, 1, 1, 1],\n",
       "       [0, 0, 0, 0, 0, 0],\n",
       "       [1, 0, 0, 1, 0, 1],\n",
       "       [0, 1, 1, 1, 0, 1],\n",
       "       [1, 0, 1, 1, 1, 0],\n",
       "       [1, 1, 0, 0, 1, 0]])"
      ]
     },
     "execution_count": 9,
     "metadata": {},
     "output_type": "execute_result"
    }
   ],
   "source": [
    "update_grid(grid)"
   ]
  },
  {
   "cell_type": "code",
   "execution_count": 10,
   "id": "ebc82225-e393-476c-8e94-2e1d7de17567",
   "metadata": {},
   "outputs": [],
   "source": [
    "oscilant = np.array([\n",
    "    [0, 0, 0, 0, 0],\n",
    "    [0, 0, 1, 0, 0],\n",
    "    [0, 0, 1, 0, 0],\n",
    "    [0, 0, 1, 0, 0],\n",
    "    [0, 0, 0, 0, 0]\n",
    "])"
   ]
  },
  {
   "cell_type": "code",
   "execution_count": 12,
   "id": "c2a7c9b6-cd9f-46b1-ab56-c4b2cf3ac036",
   "metadata": {
    "collapsed": true,
    "jupyter": {
     "outputs_hidden": true
    },
    "tags": []
   },
   "outputs": [
    {
     "name": "stdout",
     "output_type": "stream",
     "text": [
      "[[0 0 0 0 0]\n",
      " [0 0 1 0 0]\n",
      " [0 0 1 0 0]\n",
      " [0 0 1 0 0]\n",
      " [0 0 0 0 0]]\n",
      "[[0 0 0 0 0]\n",
      " [0 0 0 0 0]\n",
      " [0 1 1 1 0]\n",
      " [0 0 0 0 0]\n",
      " [0 0 0 0 0]]\n",
      "[[0 0 0 0 0]\n",
      " [0 0 1 0 0]\n",
      " [0 0 1 0 0]\n",
      " [0 0 1 0 0]\n",
      " [0 0 0 0 0]]\n",
      "[[0 0 0 0 0]\n",
      " [0 0 0 0 0]\n",
      " [0 1 1 1 0]\n",
      " [0 0 0 0 0]\n",
      " [0 0 0 0 0]]\n",
      "[[0 0 0 0 0]\n",
      " [0 0 1 0 0]\n",
      " [0 0 1 0 0]\n",
      " [0 0 1 0 0]\n",
      " [0 0 0 0 0]]\n"
     ]
    }
   ],
   "source": [
    "grid = oscilant.copy()\n",
    "for _ in range(5):\n",
    "    print(grid)\n",
    "    grid = update_grid(grid)"
   ]
  },
  {
   "cell_type": "code",
   "execution_count": 13,
   "id": "e4c458d0-1912-4dd3-abbf-16014e874540",
   "metadata": {},
   "outputs": [],
   "source": [
    "oscilant2 = np.array([\n",
    "    [0, 0, 0, 0, 0, 0],\n",
    "    [0, 0, 0, 0, 0, 0],\n",
    "    [0, 0, 1, 1, 1, 0],\n",
    "    [0, 1, 1, 1, 0, 0],\n",
    "    [0, 0, 0, 0, 0, 0],\n",
    "    [0, 0, 0, 0, 0, 0]\n",
    "])"
   ]
  },
  {
   "cell_type": "code",
   "execution_count": 14,
   "id": "1dcf31b5-8b03-4870-8295-beafe3fd439b",
   "metadata": {
    "collapsed": true,
    "jupyter": {
     "outputs_hidden": true
    },
    "tags": []
   },
   "outputs": [
    {
     "name": "stdout",
     "output_type": "stream",
     "text": [
      "[[0 0 0 0 0 0]\n",
      " [0 0 0 0 0 0]\n",
      " [0 0 1 1 1 0]\n",
      " [0 1 1 1 0 0]\n",
      " [0 0 0 0 0 0]\n",
      " [0 0 0 0 0 0]]\n",
      "[[0 0 0 0 0 0]\n",
      " [0 0 0 1 0 0]\n",
      " [0 1 0 0 1 0]\n",
      " [0 1 0 0 1 0]\n",
      " [0 0 1 0 0 0]\n",
      " [0 0 0 0 0 0]]\n",
      "[[0 0 0 0 0 0]\n",
      " [0 0 0 0 0 0]\n",
      " [0 0 1 1 1 0]\n",
      " [0 1 1 1 0 0]\n",
      " [0 0 0 0 0 0]\n",
      " [0 0 0 0 0 0]]\n",
      "[[0 0 0 0 0 0]\n",
      " [0 0 0 1 0 0]\n",
      " [0 1 0 0 1 0]\n",
      " [0 1 0 0 1 0]\n",
      " [0 0 1 0 0 0]\n",
      " [0 0 0 0 0 0]]\n",
      "[[0 0 0 0 0 0]\n",
      " [0 0 0 0 0 0]\n",
      " [0 0 1 1 1 0]\n",
      " [0 1 1 1 0 0]\n",
      " [0 0 0 0 0 0]\n",
      " [0 0 0 0 0 0]]\n"
     ]
    }
   ],
   "source": [
    "grid = oscilant2.copy()\n",
    "for _ in range(5):\n",
    "    print(grid)\n",
    "    grid = update_grid(grid)"
   ]
  },
  {
   "cell_type": "code",
   "execution_count": 15,
   "id": "5e4d8410-35f1-49ca-9bcd-871532fadb50",
   "metadata": {},
   "outputs": [],
   "source": [
    "oscilant3 = np.array([\n",
    "    [0, 0, 0, 0, 0, 0],\n",
    "    [0, 1, 1, 0, 0, 0],\n",
    "    [0, 1, 1, 0, 0, 0],\n",
    "    [0, 0, 0, 1, 1, 0],\n",
    "    [0, 0, 0, 1, 1, 0],\n",
    "    [0, 0, 0, 0, 0, 0]\n",
    "])"
   ]
  },
  {
   "cell_type": "code",
   "execution_count": 16,
   "id": "e9447b24-dd11-463e-afc4-80c6d7f6dd7b",
   "metadata": {
    "collapsed": true,
    "jupyter": {
     "outputs_hidden": true
    },
    "tags": []
   },
   "outputs": [
    {
     "name": "stdout",
     "output_type": "stream",
     "text": [
      "[[0 0 0 0 0 0]\n",
      " [0 1 1 0 0 0]\n",
      " [0 1 1 0 0 0]\n",
      " [0 0 0 1 1 0]\n",
      " [0 0 0 1 1 0]\n",
      " [0 0 0 0 0 0]]\n",
      "[[0 0 0 0 0 0]\n",
      " [0 1 1 0 0 0]\n",
      " [0 1 0 0 0 0]\n",
      " [0 0 0 0 1 0]\n",
      " [0 0 0 1 1 0]\n",
      " [0 0 0 0 0 0]]\n",
      "[[0 0 0 0 0 0]\n",
      " [0 1 1 0 0 0]\n",
      " [0 1 1 0 0 0]\n",
      " [0 0 0 1 1 0]\n",
      " [0 0 0 1 1 0]\n",
      " [0 0 0 0 0 0]]\n",
      "[[0 0 0 0 0 0]\n",
      " [0 1 1 0 0 0]\n",
      " [0 1 0 0 0 0]\n",
      " [0 0 0 0 1 0]\n",
      " [0 0 0 1 1 0]\n",
      " [0 0 0 0 0 0]]\n",
      "[[0 0 0 0 0 0]\n",
      " [0 1 1 0 0 0]\n",
      " [0 1 1 0 0 0]\n",
      " [0 0 0 1 1 0]\n",
      " [0 0 0 1 1 0]\n",
      " [0 0 0 0 0 0]]\n"
     ]
    }
   ],
   "source": [
    "grid = oscilant3.copy()\n",
    "for _ in range(5):\n",
    "    print(grid)\n",
    "    grid = update_grid(grid)"
   ]
  }
 ],
 "metadata": {
  "kernelspec": {
   "display_name": "Python 3 (ipykernel)",
   "language": "python",
   "name": "python3"
  },
  "language_info": {
   "codemirror_mode": {
    "name": "ipython",
    "version": 3
   },
   "file_extension": ".py",
   "mimetype": "text/x-python",
   "name": "python",
   "nbconvert_exporter": "python",
   "pygments_lexer": "ipython3",
   "version": "3.9.13"
  }
 },
 "nbformat": 4,
 "nbformat_minor": 5
}
